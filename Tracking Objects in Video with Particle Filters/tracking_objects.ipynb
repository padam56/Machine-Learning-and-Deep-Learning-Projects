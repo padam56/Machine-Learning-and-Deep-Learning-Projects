{
 "cells": [
  {
   "cell_type": "markdown",
   "metadata": {},
   "source": [
    "Tracking Objects in Video with Particle Filters\n",
    "==============================================="
   ]
  },
  {
   "cell_type": "markdown",
   "metadata": {},
   "source": [
    "Import libraries"
   ]
  },
  {
   "cell_type": "code",
   "execution_count": 45,
   "metadata": {},
   "outputs": [],
   "source": [
    "import numpy as np\n",
    "import cv2\n",
    "\n",
    "# Repeatability\n",
    "np.random.seed(0)\n",
    "\n",
    "VFILENAME = \"walking.mp4\"\n",
    "HEIGHT = 406\n",
    "WIDTH = 722"
   ]
  },
  {
   "cell_type": "markdown",
   "metadata": {},
   "source": [
    "Load video frames from file"
   ]
  },
  {
   "cell_type": "code",
   "execution_count": 46,
   "metadata": {},
   "outputs": [],
   "source": [
    "def get_frames(filename):\n",
    "    video = cv2.VideoCapture(filename)\n",
    "    while video.isOpened():\n",
    "        ret, frame = video.read()\n",
    "        if ret:\n",
    "            yield frame\n",
    "        else:\n",
    "            break\n",
    "    video.release()\n",
    "    yield None"
   ]
  },
  {
   "cell_type": "markdown",
   "metadata": {},
   "source": [
    "Creating a particle cloud"
   ]
  },
  {
   "cell_type": "code",
   "execution_count": 47,
   "metadata": {},
   "outputs": [],
   "source": [
    "NUM_PARTICLES = 500 #200 works out okay\n",
    "VEL_RANGE = 0.5\n",
    "def initialize_particles():\n",
    "    particles = np.random.rand(NUM_PARTICLES,4)\n",
    "    particles = particles * np.array((WIDTH, HEIGHT, VEL_RANGE, VEL_RANGE))\n",
    "    particles[:,2:4] -= VEL_RANGE/2.0\n",
    "    print(particles[:20,:])\n",
    "    return particles"
   ]
  },
  {
   "cell_type": "markdown",
   "metadata": {},
   "source": [
    "Moving particles according to their velocity state"
   ]
  },
  {
   "cell_type": "code",
   "execution_count": 48,
   "metadata": {},
   "outputs": [],
   "source": [
    "def apply_velocity(particles):\n",
    "    particles[:,0] += particles[:,2]   # x = x + u\n",
    "    particles[:,1] += particles[:,3]\n",
    "    return particles"
   ]
  },
  {
   "cell_type": "markdown",
   "metadata": {},
   "source": [
    "Prevent particles from falling off the edge of the video frame"
   ]
  },
  {
   "cell_type": "code",
   "execution_count": 49,
   "metadata": {},
   "outputs": [],
   "source": [
    "def enforce_edges(particles):\n",
    "    for i in range(NUM_PARTICLES):\n",
    "        particles[i,0] = max(0, min(WIDTH-1, particles[i,0]))\n",
    "        particles[i,1] = max(0, min(HEIGHT-1, particles[i,1]))\n",
    "    return particles"
   ]
  },
  {
   "cell_type": "markdown",
   "metadata": {},
   "source": [
    "Measure each particle's quality"
   ]
  },
  {
   "cell_type": "code",
   "execution_count": 50,
   "metadata": {},
   "outputs": [],
   "source": [
    "def compute_errors(particles, frame):\n",
    "    errors = np.zeros(NUM_PARTICLES)\n",
    "#   TARGET_COLOUR = np.array( (189,105,82) ) # Blue top sleeve pixel colour\n",
    "    TARGET_COLOUR = np.array( (148, 73, 49) ) # Blue top sleeve pixel colour\n",
    "    for i in range(NUM_PARTICLES):\n",
    "        x = int(particles[i,0])\n",
    "        y = int(particles[i,1])\n",
    "        pixel_colour = frame[ y, x, : ]\n",
    "        errors[i] = np.sum( ( TARGET_COLOUR - pixel_colour )**2 ) # MSE difference in colour space\n",
    "    return errors"
   ]
  },
  {
   "cell_type": "markdown",
   "metadata": {},
   "source": [
    "Assign weights to the particles based on their quality of match"
   ]
  },
  {
   "cell_type": "code",
   "execution_count": 51,
   "metadata": {},
   "outputs": [],
   "source": [
    "def compute_weights(errors):\n",
    "    weights = np.max(errors) - errors\n",
    "    weights[ \n",
    "        (particles[ :,0 ] == 0) | #logical OR\n",
    "        (particles[ :,0 ] == WIDTH-1) |\n",
    "        (particles[ :,1 ] == 0) |\n",
    "        (particles[ :,1 ] == HEIGHT-1)\n",
    "    ] = 0.0\n",
    "    \n",
    "    # Make weights more sensitive to colour difference.\n",
    "    # Cubing a set of numbers in the interval [0,1], the farther a number is from 1, the more it gets squashed toward zero\n",
    "    weights = weights**4\n",
    "    \n",
    "    return weights"
   ]
  },
  {
   "cell_type": "markdown",
   "metadata": {},
   "source": [
    "Resample particles according to their weights"
   ]
  },
  {
   "cell_type": "code",
   "execution_count": 52,
   "metadata": {},
   "outputs": [],
   "source": [
    "def resample(particles, weights):\n",
    "    # Normalize to get valid PDF\n",
    "    probabilities = weights / np.sum(weights)\n",
    "\n",
    "    # Resample\n",
    "    indices = np.random.choice(\n",
    "        NUM_PARTICLES,\n",
    "        size=NUM_PARTICLES,\n",
    "        p=probabilities)\n",
    "    particles = particles[ indices, : ]\n",
    "\n",
    "    # Take average over all particles, best-guess for location\n",
    "    x = np.mean(particles[:,0])\n",
    "    y = np.mean(particles[:,1])\n",
    "    return particles, (int(x),int(y))"
   ]
  },
  {
   "cell_type": "markdown",
   "metadata": {},
   "source": [
    "Fuzz the particles"
   ]
  },
  {
   "cell_type": "code",
   "execution_count": 53,
   "metadata": {},
   "outputs": [],
   "source": [
    "def apply_noise(particles): #Gaussian Noise\n",
    "    # Noise is good!  Noise expresses our uncertainty in the target's position and velocity\n",
    "    # We add small variations to each hypothesis that were samples from the best ones in last iteration.\n",
    "    # The target's position and velocity may have changed since the last frame, some of the fuzzed hypotheses will match these changes.\n",
    "    POS_SIGMA = 1.0\n",
    "    VEL_SIGMA = 0.5\n",
    "    noise = np.concatenate(\n",
    "        (\n",
    "            np.random.normal(0.0, POS_SIGMA, (NUM_PARTICLES,1)),\n",
    "            np.random.normal(0.0, POS_SIGMA, (NUM_PARTICLES,1)),\n",
    "            np.random.normal(0.0, VEL_SIGMA, (NUM_PARTICLES,1)),\n",
    "            np.random.normal(0.0, VEL_SIGMA, (NUM_PARTICLES,1))\n",
    "        ),\n",
    "        axis=1\n",
    "    )\n",
    "    particles += noise\n",
    "    return particles"
   ]
  },
  {
   "cell_type": "markdown",
   "metadata": {},
   "source": [
    "Display the video frames"
   ]
  },
  {
   "cell_type": "code",
   "execution_count": 54,
   "metadata": {},
   "outputs": [],
   "source": [
    "def display(frame, particles, location):\n",
    "    if len(particles) > 0:\n",
    "        for i in range(NUM_PARTICLES):\n",
    "            x = int(particles[i,0]) #using their values as pixel co-ordinates by casting them into integer\n",
    "            y = int(particles[i,1])\n",
    "            cv2.circle(frame, (x,y), 1, (0,255,0), 1)  #opencv color convention: BGR instead of RGB\n",
    "    if len(location) > 0:\n",
    "        cv2.circle(frame, location, 15, (0,0,255), 5)\n",
    "    cv2.imshow('frame', frame)\n",
    "    if cv2.waitKey(30) == 27: # wait n msec for user to his Esc key\n",
    "        if cv2.waitKey(0) == 27: # second Esc key exits program\n",
    "            return True\n",
    "    return False"
   ]
  },
  {
   "cell_type": "markdown",
   "metadata": {},
   "source": [
    "Main routine"
   ]
  },
  {
   "cell_type": "code",
   "execution_count": 55,
   "metadata": {},
   "outputs": [
    {
     "name": "stdout",
     "output_type": "stream",
     "text": [
      "[[ 3.96243350e+02  2.90366883e+02  5.13816880e-02  2.24415915e-02]\n",
      " [ 3.05878765e+02  2.62233010e+02 -3.12063944e-02  1.95886500e-01]\n",
      " [ 6.95764513e+02  1.55677257e+02  1.45862519e-01  1.44474599e-02]\n",
      " [ 4.10128173e+02  3.75792235e+02 -2.14481971e-01 -2.06435350e-01]\n",
      " [ 1.45976830e+01  3.38043657e+02  1.39078375e-01  1.85006074e-01]\n",
      " [ 7.06562443e+02  3.24458377e+02 -1.92603189e-02  1.40264588e-01]\n",
      " [ 8.53941355e+01  2.59807935e+02 -1.78323356e-01  2.22334459e-01]\n",
      " [ 3.76774488e+02  1.68352748e+02 -1.17722194e-01  1.37116845e-01]\n",
      " [ 3.29340540e+02  2.30784183e+02 -2.40605100e-01  5.88177485e-02]\n",
      " [ 4.41933112e+02  2.50475203e+02  2.21874039e-01  9.09101496e-02]\n",
      " [ 2.59564704e+02  1.77434973e+02  9.88155980e-02 -2.19887264e-01]\n",
      " [ 4.81405569e+02  2.72278975e+02 -1.44808719e-01 -1.85536851e-01]\n",
      " [ 2.27739269e+02  1.47666573e+02  3.50983852e-02 -3.06992433e-02]\n",
      " [ 7.13605911e+02  4.14301932e+01 -1.45561622e-01 -1.69345241e-01]\n",
      " [ 4.71544211e+02  1.02836391e+02 -1.68446136e-02 -1.27787204e-01]\n",
      " [ 1.14776039e+02  4.48123073e+01  7.81647947e-02 -1.80908524e-01]\n",
      " [ 1.41932465e+02  1.49702419e+02  1.60496615e-01 -2.01449362e-01]\n",
      " [ 6.04996223e+02  3.90159536e+01  2.38229733e-01 -1.56743992e-02]\n",
      " [ 7.05221506e+02  2.45567281e+02  1.19631790e-01 -2.30406104e-01]\n",
      " [ 2.04186627e+02  4.87998039e+01 -1.01929901e-01 -1.90636141e-01]]\n"
     ]
    }
   ],
   "source": [
    "particles = initialize_particles()\n",
    "\n",
    "for frame in get_frames(VFILENAME):\n",
    "    if frame is None: break\n",
    "\n",
    "    particles = apply_velocity(particles)\n",
    "    particles = enforce_edges(particles)\n",
    "    errors = compute_errors(particles, frame)\n",
    "    weights = compute_weights(errors)\n",
    "    particles, location = resample(particles, weights)\n",
    "    particles = apply_noise(particles)\n",
    "    terminate = display(frame, particles, location)\n",
    "    if terminate:\n",
    "        break\n",
    "cv2.destroyAllWindows()"
   ]
  }
 ],
 "metadata": {
  "kernelspec": {
   "display_name": "Python 3",
   "language": "python",
   "name": "python3"
  },
  "language_info": {
   "codemirror_mode": {
    "name": "ipython",
    "version": 3
   },
   "file_extension": ".py",
   "mimetype": "text/x-python",
   "name": "python",
   "nbconvert_exporter": "python",
   "pygments_lexer": "ipython3",
   "version": "3.8.8"
  }
 },
 "nbformat": 4,
 "nbformat_minor": 4
}
